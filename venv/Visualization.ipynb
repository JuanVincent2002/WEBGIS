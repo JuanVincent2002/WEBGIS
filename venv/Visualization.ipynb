{
 "cells": [
  {
   "cell_type": "code",
   "execution_count": 1,
   "id": "a21f1a9b",
   "metadata": {},
   "outputs": [
    {
     "name": "stdout",
     "output_type": "stream",
     "text": [
      "Requirement already satisfied: leafmap[maplibre] in c:\\users\\vincent\\downloads\\webgis\\venv\\lib\\site-packages (0.46.4)\n",
      "Collecting leafmap[maplibre]\n",
      "  Downloading leafmap-0.46.5-py2.py3-none-any.whl.metadata (16 kB)\n",
      "Requirement already satisfied: anywidget in c:\\users\\vincent\\downloads\\webgis\\venv\\lib\\site-packages (from leafmap[maplibre]) (0.9.18)\n",
      "Requirement already satisfied: bqplot in c:\\users\\vincent\\downloads\\webgis\\venv\\lib\\site-packages (from leafmap[maplibre]) (0.12.45)\n",
      "Requirement already satisfied: colour in c:\\users\\vincent\\downloads\\webgis\\venv\\lib\\site-packages (from leafmap[maplibre]) (0.1.5)\n",
      "Requirement already satisfied: duckdb in c:\\users\\vincent\\downloads\\webgis\\venv\\lib\\site-packages (from leafmap[maplibre]) (1.3.0)\n",
      "Requirement already satisfied: folium in c:\\users\\vincent\\downloads\\webgis\\venv\\lib\\site-packages (from leafmap[maplibre]) (0.19.6)\n",
      "Requirement already satisfied: gdown in c:\\users\\vincent\\downloads\\webgis\\venv\\lib\\site-packages (from leafmap[maplibre]) (5.2.0)\n",
      "Requirement already satisfied: geojson in c:\\users\\vincent\\downloads\\webgis\\venv\\lib\\site-packages (from leafmap[maplibre]) (3.2.0)\n",
      "Requirement already satisfied: geopandas in c:\\users\\vincent\\downloads\\webgis\\venv\\lib\\site-packages (from leafmap[maplibre]) (1.0.1)\n",
      "Requirement already satisfied: h5netcdf in c:\\users\\vincent\\downloads\\webgis\\venv\\lib\\site-packages (from leafmap[maplibre]) (1.6.1)\n",
      "Requirement already satisfied: h5py in c:\\users\\vincent\\downloads\\webgis\\venv\\lib\\site-packages (from leafmap[maplibre]) (3.13.0)\n",
      "Requirement already satisfied: ipyevents in c:\\users\\vincent\\downloads\\webgis\\venv\\lib\\site-packages (from leafmap[maplibre]) (2.0.2)\n",
      "Requirement already satisfied: ipyfilechooser in c:\\users\\vincent\\downloads\\webgis\\venv\\lib\\site-packages (from leafmap[maplibre]) (0.6.0)\n",
      "Requirement already satisfied: ipyleaflet in c:\\users\\vincent\\downloads\\webgis\\venv\\lib\\site-packages (from leafmap[maplibre]) (0.19.2)\n",
      "Requirement already satisfied: ipyvuetify in c:\\users\\vincent\\downloads\\webgis\\venv\\lib\\site-packages (from leafmap[maplibre]) (1.11.1)\n",
      "Requirement already satisfied: ipywidgets in c:\\users\\vincent\\downloads\\webgis\\venv\\lib\\site-packages (from leafmap[maplibre]) (8.1.7)\n",
      "Requirement already satisfied: localtileserver in c:\\users\\vincent\\downloads\\webgis\\venv\\lib\\site-packages (from leafmap[maplibre]) (0.10.6)\n",
      "Requirement already satisfied: matplotlib in c:\\users\\vincent\\downloads\\webgis\\venv\\lib\\site-packages (from leafmap[maplibre]) (3.10.3)\n",
      "Requirement already satisfied: numpy in c:\\users\\vincent\\downloads\\webgis\\venv\\lib\\site-packages (from leafmap[maplibre]) (2.2.6)\n",
      "Requirement already satisfied: opera-utils in c:\\users\\vincent\\downloads\\webgis\\venv\\lib\\site-packages (from leafmap[maplibre]) (0.21.0)\n",
      "Requirement already satisfied: pandas in c:\\users\\vincent\\downloads\\webgis\\venv\\lib\\site-packages (from leafmap[maplibre]) (2.2.3)\n",
      "Requirement already satisfied: plotly in c:\\users\\vincent\\downloads\\webgis\\venv\\lib\\site-packages (from leafmap[maplibre]) (6.1.1)\n",
      "Requirement already satisfied: psutil in c:\\users\\vincent\\downloads\\webgis\\venv\\lib\\site-packages (from leafmap[maplibre]) (7.0.0)\n",
      "Requirement already satisfied: pyshp in c:\\users\\vincent\\downloads\\webgis\\venv\\lib\\site-packages (from leafmap[maplibre]) (2.3.1)\n",
      "Requirement already satisfied: pystac-client in c:\\users\\vincent\\downloads\\webgis\\venv\\lib\\site-packages (from leafmap[maplibre]) (0.8.6)\n",
      "Requirement already satisfied: python-box in c:\\users\\vincent\\downloads\\webgis\\venv\\lib\\site-packages (from leafmap[maplibre]) (7.3.2)\n",
      "Requirement already satisfied: rioxarray in c:\\users\\vincent\\downloads\\webgis\\venv\\lib\\site-packages (from leafmap[maplibre]) (0.19.0)\n",
      "Requirement already satisfied: scooby in c:\\users\\vincent\\downloads\\webgis\\venv\\lib\\site-packages (from leafmap[maplibre]) (0.10.1)\n",
      "Requirement already satisfied: whiteboxgui in c:\\users\\vincent\\downloads\\webgis\\venv\\lib\\site-packages (from leafmap[maplibre]) (2.3.0)\n",
      "Requirement already satisfied: xyzservices in c:\\users\\vincent\\downloads\\webgis\\venv\\lib\\site-packages (from leafmap[maplibre]) (2025.4.0)\n",
      "Requirement already satisfied: fiona in c:\\users\\vincent\\downloads\\webgis\\venv\\lib\\site-packages (from leafmap[maplibre]) (1.10.1)\n",
      "Requirement already satisfied: h3 in c:\\users\\vincent\\downloads\\webgis\\venv\\lib\\site-packages (from leafmap[maplibre]) (4.2.2)\n",
      "Requirement already satisfied: mapclassify in c:\\users\\vincent\\downloads\\webgis\\venv\\lib\\site-packages (from leafmap[maplibre]) (2.8.1)\n",
      "Requirement already satisfied: maplibre>=0.3.1 in c:\\users\\vincent\\downloads\\webgis\\venv\\lib\\site-packages (from leafmap[maplibre]) (0.3.3)\n",
      "Requirement already satisfied: pmtiles in c:\\users\\vincent\\downloads\\webgis\\venv\\lib\\site-packages (from leafmap[maplibre]) (3.4.1)\n",
      "Requirement already satisfied: xarray in c:\\users\\vincent\\downloads\\webgis\\venv\\lib\\site-packages (from leafmap[maplibre]) (2025.4.0)\n",
      "Requirement already satisfied: branca in c:\\users\\vincent\\downloads\\webgis\\venv\\lib\\site-packages (from maplibre>=0.3.1->leafmap[maplibre]) (0.8.1)\n",
      "Requirement already satisfied: eval-type-backport in c:\\users\\vincent\\downloads\\webgis\\venv\\lib\\site-packages (from maplibre>=0.3.1->leafmap[maplibre]) (0.2.2)\n",
      "Requirement already satisfied: jinja2>=3.1.5 in c:\\users\\vincent\\downloads\\webgis\\venv\\lib\\site-packages (from maplibre>=0.3.1->leafmap[maplibre]) (3.1.6)\n",
      "Requirement already satisfied: pydantic>=2.5.3 in c:\\users\\vincent\\downloads\\webgis\\venv\\lib\\site-packages (from maplibre>=0.3.1->leafmap[maplibre]) (2.11.5)\n",
      "Requirement already satisfied: psygnal>=0.8.1 in c:\\users\\vincent\\downloads\\webgis\\venv\\lib\\site-packages (from anywidget->leafmap[maplibre]) (0.13.0)\n",
      "Requirement already satisfied: typing-extensions>=4.2.0 in c:\\users\\vincent\\downloads\\webgis\\venv\\lib\\site-packages (from anywidget->leafmap[maplibre]) (4.13.2)\n",
      "Requirement already satisfied: comm>=0.1.3 in c:\\users\\vincent\\downloads\\webgis\\venv\\lib\\site-packages (from ipywidgets->leafmap[maplibre]) (0.2.2)\n",
      "Requirement already satisfied: ipython>=6.1.0 in c:\\users\\vincent\\downloads\\webgis\\venv\\lib\\site-packages (from ipywidgets->leafmap[maplibre]) (9.2.0)\n",
      "Requirement already satisfied: traitlets>=4.3.1 in c:\\users\\vincent\\downloads\\webgis\\venv\\lib\\site-packages (from ipywidgets->leafmap[maplibre]) (5.14.3)\n",
      "Requirement already satisfied: widgetsnbextension~=4.0.14 in c:\\users\\vincent\\downloads\\webgis\\venv\\lib\\site-packages (from ipywidgets->leafmap[maplibre]) (4.0.14)\n",
      "Requirement already satisfied: jupyterlab_widgets~=3.0.15 in c:\\users\\vincent\\downloads\\webgis\\venv\\lib\\site-packages (from ipywidgets->leafmap[maplibre]) (3.0.15)\n",
      "Requirement already satisfied: traittypes>=0.0.6 in c:\\users\\vincent\\downloads\\webgis\\venv\\lib\\site-packages (from bqplot->leafmap[maplibre]) (0.2.1)\n",
      "Requirement already satisfied: python-dateutil>=2.8.2 in c:\\users\\vincent\\downloads\\webgis\\venv\\lib\\site-packages (from pandas->leafmap[maplibre]) (2.9.0.post0)\n",
      "Requirement already satisfied: pytz>=2020.1 in c:\\users\\vincent\\downloads\\webgis\\venv\\lib\\site-packages (from pandas->leafmap[maplibre]) (2025.2)\n",
      "Requirement already satisfied: tzdata>=2022.7 in c:\\users\\vincent\\downloads\\webgis\\venv\\lib\\site-packages (from pandas->leafmap[maplibre]) (2025.2)\n",
      "Requirement already satisfied: attrs>=19.2.0 in c:\\users\\vincent\\downloads\\webgis\\venv\\lib\\site-packages (from fiona->leafmap[maplibre]) (25.3.0)\n",
      "Requirement already satisfied: certifi in c:\\users\\vincent\\downloads\\webgis\\venv\\lib\\site-packages (from fiona->leafmap[maplibre]) (2025.4.26)\n",
      "Requirement already satisfied: click~=8.0 in c:\\users\\vincent\\downloads\\webgis\\venv\\lib\\site-packages (from fiona->leafmap[maplibre]) (8.2.1)\n",
      "Requirement already satisfied: click-plugins>=1.0 in c:\\users\\vincent\\downloads\\webgis\\venv\\lib\\site-packages (from fiona->leafmap[maplibre]) (1.1.1)\n",
      "Requirement already satisfied: cligj>=0.5 in c:\\users\\vincent\\downloads\\webgis\\venv\\lib\\site-packages (from fiona->leafmap[maplibre]) (0.7.2)\n",
      "Requirement already satisfied: requests in c:\\users\\vincent\\downloads\\webgis\\venv\\lib\\site-packages (from folium->leafmap[maplibre]) (2.32.3)\n",
      "Requirement already satisfied: beautifulsoup4 in c:\\users\\vincent\\downloads\\webgis\\venv\\lib\\site-packages (from gdown->leafmap[maplibre]) (4.13.4)\n",
      "Requirement already satisfied: filelock in c:\\users\\vincent\\downloads\\webgis\\venv\\lib\\site-packages (from gdown->leafmap[maplibre]) (3.18.0)\n",
      "Requirement already satisfied: tqdm in c:\\users\\vincent\\downloads\\webgis\\venv\\lib\\site-packages (from gdown->leafmap[maplibre]) (4.67.1)\n",
      "Requirement already satisfied: pyogrio>=0.7.2 in c:\\users\\vincent\\downloads\\webgis\\venv\\lib\\site-packages (from geopandas->leafmap[maplibre]) (0.11.0)\n",
      "Requirement already satisfied: packaging in c:\\users\\vincent\\downloads\\webgis\\venv\\lib\\site-packages (from geopandas->leafmap[maplibre]) (25.0)\n",
      "Requirement already satisfied: pyproj>=3.3.0 in c:\\users\\vincent\\downloads\\webgis\\venv\\lib\\site-packages (from geopandas->leafmap[maplibre]) (3.7.1)\n",
      "Requirement already satisfied: shapely>=2.0.0 in c:\\users\\vincent\\downloads\\webgis\\venv\\lib\\site-packages (from geopandas->leafmap[maplibre]) (2.1.1)\n",
      "Requirement already satisfied: jupyter-leaflet<0.20,>=0.19 in c:\\users\\vincent\\downloads\\webgis\\venv\\lib\\site-packages (from ipyleaflet->leafmap[maplibre]) (0.19.2)\n",
      "Requirement already satisfied: ipyvue<2,>=1.7 in c:\\users\\vincent\\downloads\\webgis\\venv\\lib\\site-packages (from ipyvuetify->leafmap[maplibre]) (1.11.2)\n",
      "Requirement already satisfied: flask<4,>=2.0.0 in c:\\users\\vincent\\downloads\\webgis\\venv\\lib\\site-packages (from localtileserver->leafmap[maplibre]) (3.1.1)\n",
      "Requirement already satisfied: Flask-Caching in c:\\users\\vincent\\downloads\\webgis\\venv\\lib\\site-packages (from localtileserver->leafmap[maplibre]) (2.3.1)\n",
      "Requirement already satisfied: flask-cors in c:\\users\\vincent\\downloads\\webgis\\venv\\lib\\site-packages (from localtileserver->leafmap[maplibre]) (6.0.0)\n",
      "Requirement already satisfied: flask-restx>=1.3.0 in c:\\users\\vincent\\downloads\\webgis\\venv\\lib\\site-packages (from localtileserver->leafmap[maplibre]) (1.3.0)\n",
      "Requirement already satisfied: rio-tiler in c:\\users\\vincent\\downloads\\webgis\\venv\\lib\\site-packages (from localtileserver->leafmap[maplibre]) (7.7.3.post1)\n",
      "Requirement already satisfied: rio-cogeo in c:\\users\\vincent\\downloads\\webgis\\venv\\lib\\site-packages (from localtileserver->leafmap[maplibre]) (5.4.1)\n",
      "Requirement already satisfied: server-thread in c:\\users\\vincent\\downloads\\webgis\\venv\\lib\\site-packages (from localtileserver->leafmap[maplibre]) (0.3.0)\n",
      "Requirement already satisfied: werkzeug in c:\\users\\vincent\\downloads\\webgis\\venv\\lib\\site-packages (from localtileserver->leafmap[maplibre]) (3.1.3)\n",
      "Requirement already satisfied: networkx>=2.7 in c:\\users\\vincent\\downloads\\webgis\\venv\\lib\\site-packages (from mapclassify->leafmap[maplibre]) (3.4.2)\n",
      "Requirement already satisfied: scikit-learn>=1.0 in c:\\users\\vincent\\downloads\\webgis\\venv\\lib\\site-packages (from mapclassify->leafmap[maplibre]) (1.6.1)\n",
      "Requirement already satisfied: scipy>=1.8 in c:\\users\\vincent\\downloads\\webgis\\venv\\lib\\site-packages (from mapclassify->leafmap[maplibre]) (1.15.3)\n",
      "Requirement already satisfied: contourpy>=1.0.1 in c:\\users\\vincent\\downloads\\webgis\\venv\\lib\\site-packages (from matplotlib->leafmap[maplibre]) (1.3.2)\n",
      "Requirement already satisfied: cycler>=0.10 in c:\\users\\vincent\\downloads\\webgis\\venv\\lib\\site-packages (from matplotlib->leafmap[maplibre]) (0.12.1)\n",
      "Requirement already satisfied: fonttools>=4.22.0 in c:\\users\\vincent\\downloads\\webgis\\venv\\lib\\site-packages (from matplotlib->leafmap[maplibre]) (4.58.0)\n",
      "Requirement already satisfied: kiwisolver>=1.3.1 in c:\\users\\vincent\\downloads\\webgis\\venv\\lib\\site-packages (from matplotlib->leafmap[maplibre]) (1.4.8)\n",
      "Requirement already satisfied: pillow>=8 in c:\\users\\vincent\\downloads\\webgis\\venv\\lib\\site-packages (from matplotlib->leafmap[maplibre]) (11.2.1)\n",
      "Requirement already satisfied: pyparsing>=2.3.1 in c:\\users\\vincent\\downloads\\webgis\\venv\\lib\\site-packages (from matplotlib->leafmap[maplibre]) (3.2.3)\n",
      "Requirement already satisfied: pooch>=1.7 in c:\\users\\vincent\\downloads\\webgis\\venv\\lib\\site-packages (from opera-utils->leafmap[maplibre]) (1.8.2)\n",
      "Requirement already satisfied: tyro>=0.9 in c:\\users\\vincent\\downloads\\webgis\\venv\\lib\\site-packages (from opera-utils->leafmap[maplibre]) (0.9.21)\n",
      "Requirement already satisfied: narwhals>=1.15.1 in c:\\users\\vincent\\downloads\\webgis\\venv\\lib\\site-packages (from plotly->leafmap[maplibre]) (1.40.0)\n",
      "Requirement already satisfied: pystac>=1.10.0 in c:\\users\\vincent\\downloads\\webgis\\venv\\lib\\site-packages (from pystac[validation]>=1.10.0->pystac-client->leafmap[maplibre]) (1.13.0)\n",
      "Requirement already satisfied: rasterio>=1.4.3 in c:\\users\\vincent\\downloads\\webgis\\venv\\lib\\site-packages (from rioxarray->leafmap[maplibre]) (1.4.3)\n",
      "Requirement already satisfied: ipytree in c:\\users\\vincent\\downloads\\webgis\\venv\\lib\\site-packages (from whiteboxgui->leafmap[maplibre]) (0.2.2)\n",
      "Requirement already satisfied: whitebox in c:\\users\\vincent\\downloads\\webgis\\venv\\lib\\site-packages (from whiteboxgui->leafmap[maplibre]) (2.3.6)\n",
      "Requirement already satisfied: colorama in c:\\users\\vincent\\downloads\\webgis\\venv\\lib\\site-packages (from click~=8.0->fiona->leafmap[maplibre]) (0.4.6)\n",
      "Requirement already satisfied: blinker>=1.9.0 in c:\\users\\vincent\\downloads\\webgis\\venv\\lib\\site-packages (from flask<4,>=2.0.0->localtileserver->leafmap[maplibre]) (1.9.0)\n",
      "Requirement already satisfied: itsdangerous>=2.2.0 in c:\\users\\vincent\\downloads\\webgis\\venv\\lib\\site-packages (from flask<4,>=2.0.0->localtileserver->leafmap[maplibre]) (2.2.0)\n",
      "Requirement already satisfied: markupsafe>=2.1.1 in c:\\users\\vincent\\downloads\\webgis\\venv\\lib\\site-packages (from flask<4,>=2.0.0->localtileserver->leafmap[maplibre]) (3.0.2)\n",
      "Requirement already satisfied: aniso8601>=0.82 in c:\\users\\vincent\\downloads\\webgis\\venv\\lib\\site-packages (from flask-restx>=1.3.0->localtileserver->leafmap[maplibre]) (10.0.1)\n",
      "Requirement already satisfied: jsonschema in c:\\users\\vincent\\downloads\\webgis\\venv\\lib\\site-packages (from flask-restx>=1.3.0->localtileserver->leafmap[maplibre]) (4.23.0)\n",
      "Requirement already satisfied: importlib-resources in c:\\users\\vincent\\downloads\\webgis\\venv\\lib\\site-packages (from flask-restx>=1.3.0->localtileserver->leafmap[maplibre]) (6.5.2)\n",
      "Requirement already satisfied: decorator in c:\\users\\vincent\\downloads\\webgis\\venv\\lib\\site-packages (from ipython>=6.1.0->ipywidgets->leafmap[maplibre]) (5.2.1)\n",
      "Requirement already satisfied: ipython-pygments-lexers in c:\\users\\vincent\\downloads\\webgis\\venv\\lib\\site-packages (from ipython>=6.1.0->ipywidgets->leafmap[maplibre]) (1.1.1)\n",
      "Requirement already satisfied: jedi>=0.16 in c:\\users\\vincent\\downloads\\webgis\\venv\\lib\\site-packages (from ipython>=6.1.0->ipywidgets->leafmap[maplibre]) (0.19.2)\n",
      "Requirement already satisfied: matplotlib-inline in c:\\users\\vincent\\downloads\\webgis\\venv\\lib\\site-packages (from ipython>=6.1.0->ipywidgets->leafmap[maplibre]) (0.1.7)\n",
      "Requirement already satisfied: prompt_toolkit<3.1.0,>=3.0.41 in c:\\users\\vincent\\downloads\\webgis\\venv\\lib\\site-packages (from ipython>=6.1.0->ipywidgets->leafmap[maplibre]) (3.0.51)\n",
      "Requirement already satisfied: pygments>=2.4.0 in c:\\users\\vincent\\downloads\\webgis\\venv\\lib\\site-packages (from ipython>=6.1.0->ipywidgets->leafmap[maplibre]) (2.19.1)\n",
      "Requirement already satisfied: stack_data in c:\\users\\vincent\\downloads\\webgis\\venv\\lib\\site-packages (from ipython>=6.1.0->ipywidgets->leafmap[maplibre]) (0.6.3)\n",
      "Requirement already satisfied: platformdirs>=2.5.0 in c:\\users\\vincent\\downloads\\webgis\\venv\\lib\\site-packages (from pooch>=1.7->opera-utils->leafmap[maplibre]) (4.3.8)\n",
      "Requirement already satisfied: annotated-types>=0.6.0 in c:\\users\\vincent\\downloads\\webgis\\venv\\lib\\site-packages (from pydantic>=2.5.3->maplibre>=0.3.1->leafmap[maplibre]) (0.7.0)\n",
      "Requirement already satisfied: pydantic-core==2.33.2 in c:\\users\\vincent\\downloads\\webgis\\venv\\lib\\site-packages (from pydantic>=2.5.3->maplibre>=0.3.1->leafmap[maplibre]) (2.33.2)\n",
      "Requirement already satisfied: typing-inspection>=0.4.0 in c:\\users\\vincent\\downloads\\webgis\\venv\\lib\\site-packages (from pydantic>=2.5.3->maplibre>=0.3.1->leafmap[maplibre]) (0.4.1)\n",
      "Requirement already satisfied: six>=1.5 in c:\\users\\vincent\\downloads\\webgis\\venv\\lib\\site-packages (from python-dateutil>=2.8.2->pandas->leafmap[maplibre]) (1.17.0)\n",
      "Requirement already satisfied: affine in c:\\users\\vincent\\downloads\\webgis\\venv\\lib\\site-packages (from rasterio>=1.4.3->rioxarray->leafmap[maplibre]) (2.4.0)\n",
      "Requirement already satisfied: charset-normalizer<4,>=2 in c:\\users\\vincent\\downloads\\webgis\\venv\\lib\\site-packages (from requests->folium->leafmap[maplibre]) (3.4.2)\n",
      "Requirement already satisfied: idna<4,>=2.5 in c:\\users\\vincent\\downloads\\webgis\\venv\\lib\\site-packages (from requests->folium->leafmap[maplibre]) (3.10)\n",
      "Requirement already satisfied: urllib3<3,>=1.21.1 in c:\\users\\vincent\\downloads\\webgis\\venv\\lib\\site-packages (from requests->folium->leafmap[maplibre]) (2.4.0)\n",
      "Requirement already satisfied: joblib>=1.2.0 in c:\\users\\vincent\\downloads\\webgis\\venv\\lib\\site-packages (from scikit-learn>=1.0->mapclassify->leafmap[maplibre]) (1.5.0)\n",
      "Requirement already satisfied: threadpoolctl>=3.1.0 in c:\\users\\vincent\\downloads\\webgis\\venv\\lib\\site-packages (from scikit-learn>=1.0->mapclassify->leafmap[maplibre]) (3.6.0)\n",
      "Requirement already satisfied: docstring-parser>=0.15 in c:\\users\\vincent\\downloads\\webgis\\venv\\lib\\site-packages (from tyro>=0.9->opera-utils->leafmap[maplibre]) (0.16)\n",
      "Requirement already satisfied: rich>=11.1.0 in c:\\users\\vincent\\downloads\\webgis\\venv\\lib\\site-packages (from tyro>=0.9->opera-utils->leafmap[maplibre]) (14.0.0)\n",
      "Requirement already satisfied: shtab>=1.5.6 in c:\\users\\vincent\\downloads\\webgis\\venv\\lib\\site-packages (from tyro>=0.9->opera-utils->leafmap[maplibre]) (1.7.2)\n",
      "Requirement already satisfied: typeguard>=4.0.0 in c:\\users\\vincent\\downloads\\webgis\\venv\\lib\\site-packages (from tyro>=0.9->opera-utils->leafmap[maplibre]) (4.4.2)\n",
      "Requirement already satisfied: soupsieve>1.2 in c:\\users\\vincent\\downloads\\webgis\\venv\\lib\\site-packages (from beautifulsoup4->gdown->leafmap[maplibre]) (2.7)\n",
      "Requirement already satisfied: cachelib>=0.9.0 in c:\\users\\vincent\\downloads\\webgis\\venv\\lib\\site-packages (from Flask-Caching->localtileserver->leafmap[maplibre]) (0.13.0)\n",
      "Requirement already satisfied: PySocks!=1.5.7,>=1.5.6 in c:\\users\\vincent\\downloads\\webgis\\venv\\lib\\site-packages (from requests[socks]->gdown->leafmap[maplibre]) (1.7.1)\n",
      "Requirement already satisfied: morecantile<7.0,>=5.0 in c:\\users\\vincent\\downloads\\webgis\\venv\\lib\\site-packages (from rio-cogeo->localtileserver->leafmap[maplibre]) (6.2.0)\n",
      "Requirement already satisfied: cachetools in c:\\users\\vincent\\downloads\\webgis\\venv\\lib\\site-packages (from rio-tiler->localtileserver->leafmap[maplibre]) (5.5.2)\n",
      "Requirement already satisfied: color-operations in c:\\users\\vincent\\downloads\\webgis\\venv\\lib\\site-packages (from rio-tiler->localtileserver->leafmap[maplibre]) (0.2.0)\n",
      "Requirement already satisfied: httpx in c:\\users\\vincent\\downloads\\webgis\\venv\\lib\\site-packages (from rio-tiler->localtileserver->leafmap[maplibre]) (0.28.1)\n",
      "Requirement already satisfied: numexpr in c:\\users\\vincent\\downloads\\webgis\\venv\\lib\\site-packages (from rio-tiler->localtileserver->leafmap[maplibre]) (2.10.2)\n",
      "Requirement already satisfied: uvicorn in c:\\users\\vincent\\downloads\\webgis\\venv\\lib\\site-packages (from server-thread->localtileserver->leafmap[maplibre]) (0.34.2)\n",
      "Requirement already satisfied: parso<0.9.0,>=0.8.4 in c:\\users\\vincent\\downloads\\webgis\\venv\\lib\\site-packages (from jedi>=0.16->ipython>=6.1.0->ipywidgets->leafmap[maplibre]) (0.8.4)\n",
      "Requirement already satisfied: jsonschema-specifications>=2023.03.6 in c:\\users\\vincent\\downloads\\webgis\\venv\\lib\\site-packages (from jsonschema->flask-restx>=1.3.0->localtileserver->leafmap[maplibre]) (2025.4.1)\n",
      "Requirement already satisfied: referencing>=0.28.4 in c:\\users\\vincent\\downloads\\webgis\\venv\\lib\\site-packages (from jsonschema->flask-restx>=1.3.0->localtileserver->leafmap[maplibre]) (0.36.2)\n",
      "Requirement already satisfied: rpds-py>=0.7.1 in c:\\users\\vincent\\downloads\\webgis\\venv\\lib\\site-packages (from jsonschema->flask-restx>=1.3.0->localtileserver->leafmap[maplibre]) (0.25.1)\n",
      "Requirement already satisfied: wcwidth in c:\\users\\vincent\\downloads\\webgis\\venv\\lib\\site-packages (from prompt_toolkit<3.1.0,>=3.0.41->ipython>=6.1.0->ipywidgets->leafmap[maplibre]) (0.2.13)\n",
      "Requirement already satisfied: markdown-it-py>=2.2.0 in c:\\users\\vincent\\downloads\\webgis\\venv\\lib\\site-packages (from rich>=11.1.0->tyro>=0.9->opera-utils->leafmap[maplibre]) (3.0.0)\n",
      "Requirement already satisfied: anyio in c:\\users\\vincent\\downloads\\webgis\\venv\\lib\\site-packages (from httpx->rio-tiler->localtileserver->leafmap[maplibre]) (4.9.0)\n",
      "Requirement already satisfied: httpcore==1.* in c:\\users\\vincent\\downloads\\webgis\\venv\\lib\\site-packages (from httpx->rio-tiler->localtileserver->leafmap[maplibre]) (1.0.9)\n",
      "Requirement already satisfied: h11>=0.16 in c:\\users\\vincent\\downloads\\webgis\\venv\\lib\\site-packages (from httpcore==1.*->httpx->rio-tiler->localtileserver->leafmap[maplibre]) (0.16.0)\n",
      "Requirement already satisfied: executing>=1.2.0 in c:\\users\\vincent\\downloads\\webgis\\venv\\lib\\site-packages (from stack_data->ipython>=6.1.0->ipywidgets->leafmap[maplibre]) (2.2.0)\n",
      "Requirement already satisfied: asttokens>=2.1.0 in c:\\users\\vincent\\downloads\\webgis\\venv\\lib\\site-packages (from stack_data->ipython>=6.1.0->ipywidgets->leafmap[maplibre]) (3.0.0)\n",
      "Requirement already satisfied: pure-eval in c:\\users\\vincent\\downloads\\webgis\\venv\\lib\\site-packages (from stack_data->ipython>=6.1.0->ipywidgets->leafmap[maplibre]) (0.2.3)\n",
      "Requirement already satisfied: mdurl~=0.1 in c:\\users\\vincent\\downloads\\webgis\\venv\\lib\\site-packages (from markdown-it-py>=2.2.0->rich>=11.1.0->tyro>=0.9->opera-utils->leafmap[maplibre]) (0.1.2)\n",
      "Requirement already satisfied: sniffio>=1.1 in c:\\users\\vincent\\downloads\\webgis\\venv\\lib\\site-packages (from anyio->httpx->rio-tiler->localtileserver->leafmap[maplibre]) (1.3.1)\n",
      "Downloading leafmap-0.46.5-py2.py3-none-any.whl (560 kB)\n",
      "   ---------------------------------------- 0.0/560.8 kB ? eta -:--:--\n",
      "   ---------------------------------------- 0.0/560.8 kB ? eta -:--:--\n",
      "    --------------------------------------- 10.2/560.8 kB ? eta -:--:--\n",
      "   ---- ---------------------------------- 61.4/560.8 kB 544.7 kB/s eta 0:00:01\n",
      "   -------------- ------------------------- 204.8/560.8 kB 1.6 MB/s eta 0:00:01\n",
      "   ------------------------------ --------- 430.1/560.8 kB 2.2 MB/s eta 0:00:01\n",
      "   ---------------------------------------- 560.8/560.8 kB 2.5 MB/s eta 0:00:00\n",
      "Installing collected packages: leafmap\n",
      "  Attempting uninstall: leafmap\n",
      "    Found existing installation: leafmap 0.46.4\n",
      "    Uninstalling leafmap-0.46.4:\n",
      "      Successfully uninstalled leafmap-0.46.4\n",
      "Successfully installed leafmap-0.46.5\n",
      "Note: you may need to restart the kernel to use updated packages.\n"
     ]
    },
    {
     "name": "stderr",
     "output_type": "stream",
     "text": [
      "\n",
      "[notice] A new release of pip is available: 24.0 -> 25.1.1\n",
      "[notice] To update, run: python.exe -m pip install --upgrade pip\n"
     ]
    }
   ],
   "source": [
    "%pip install -U \"leafmap[maplibre]\""
   ]
  },
  {
   "cell_type": "code",
   "execution_count": 2,
   "id": "06844448",
   "metadata": {},
   "outputs": [
    {
     "name": "stdout",
     "output_type": "stream",
     "text": [
      "Requirement already satisfied: seaborn in c:\\users\\vincent\\downloads\\webgis\\venv\\lib\\site-packages (0.13.2)\n",
      "Requirement already satisfied: numpy!=1.24.0,>=1.20 in c:\\users\\vincent\\downloads\\webgis\\venv\\lib\\site-packages (from seaborn) (2.2.6)\n",
      "Requirement already satisfied: pandas>=1.2 in c:\\users\\vincent\\downloads\\webgis\\venv\\lib\\site-packages (from seaborn) (2.2.3)\n",
      "Requirement already satisfied: matplotlib!=3.6.1,>=3.4 in c:\\users\\vincent\\downloads\\webgis\\venv\\lib\\site-packages (from seaborn) (3.10.3)\n",
      "Requirement already satisfied: contourpy>=1.0.1 in c:\\users\\vincent\\downloads\\webgis\\venv\\lib\\site-packages (from matplotlib!=3.6.1,>=3.4->seaborn) (1.3.2)\n",
      "Requirement already satisfied: cycler>=0.10 in c:\\users\\vincent\\downloads\\webgis\\venv\\lib\\site-packages (from matplotlib!=3.6.1,>=3.4->seaborn) (0.12.1)\n",
      "Requirement already satisfied: fonttools>=4.22.0 in c:\\users\\vincent\\downloads\\webgis\\venv\\lib\\site-packages (from matplotlib!=3.6.1,>=3.4->seaborn) (4.58.0)\n",
      "Requirement already satisfied: kiwisolver>=1.3.1 in c:\\users\\vincent\\downloads\\webgis\\venv\\lib\\site-packages (from matplotlib!=3.6.1,>=3.4->seaborn) (1.4.8)\n",
      "Requirement already satisfied: packaging>=20.0 in c:\\users\\vincent\\downloads\\webgis\\venv\\lib\\site-packages (from matplotlib!=3.6.1,>=3.4->seaborn) (25.0)\n",
      "Requirement already satisfied: pillow>=8 in c:\\users\\vincent\\downloads\\webgis\\venv\\lib\\site-packages (from matplotlib!=3.6.1,>=3.4->seaborn) (11.2.1)\n",
      "Requirement already satisfied: pyparsing>=2.3.1 in c:\\users\\vincent\\downloads\\webgis\\venv\\lib\\site-packages (from matplotlib!=3.6.1,>=3.4->seaborn) (3.2.3)\n",
      "Requirement already satisfied: python-dateutil>=2.7 in c:\\users\\vincent\\downloads\\webgis\\venv\\lib\\site-packages (from matplotlib!=3.6.1,>=3.4->seaborn) (2.9.0.post0)\n",
      "Requirement already satisfied: pytz>=2020.1 in c:\\users\\vincent\\downloads\\webgis\\venv\\lib\\site-packages (from pandas>=1.2->seaborn) (2025.2)\n",
      "Requirement already satisfied: tzdata>=2022.7 in c:\\users\\vincent\\downloads\\webgis\\venv\\lib\\site-packages (from pandas>=1.2->seaborn) (2025.2)\n",
      "Requirement already satisfied: six>=1.5 in c:\\users\\vincent\\downloads\\webgis\\venv\\lib\\site-packages (from python-dateutil>=2.7->matplotlib!=3.6.1,>=3.4->seaborn) (1.17.0)\n",
      "Note: you may need to restart the kernel to use updated packages.\n"
     ]
    },
    {
     "name": "stderr",
     "output_type": "stream",
     "text": [
      "\n",
      "[notice] A new release of pip is available: 24.0 -> 25.1.1\n",
      "[notice] To update, run: python.exe -m pip install --upgrade pip\n"
     ]
    }
   ],
   "source": [
    "%pip install seaborn"
   ]
  },
  {
   "cell_type": "code",
   "execution_count": 3,
   "id": "92e5d2e8",
   "metadata": {},
   "outputs": [
    {
     "name": "stdout",
     "output_type": "stream",
     "text": [
      "Requirement already satisfied: geemap[workshop] in c:\\users\\vincent\\downloads\\webgis\\venv\\lib\\site-packages (0.35.3)\n",
      "Requirement already satisfied: bqplot in c:\\users\\vincent\\downloads\\webgis\\venv\\lib\\site-packages (from geemap[workshop]) (0.12.45)\n",
      "Requirement already satisfied: colour in c:\\users\\vincent\\downloads\\webgis\\venv\\lib\\site-packages (from geemap[workshop]) (0.1.5)\n",
      "Requirement already satisfied: earthengine-api>=1.0.0 in c:\\users\\vincent\\downloads\\webgis\\venv\\lib\\site-packages (from geemap[workshop]) (1.5.15)\n",
      "Requirement already satisfied: eerepr>=0.1.0 in c:\\users\\vincent\\downloads\\webgis\\venv\\lib\\site-packages (from geemap[workshop]) (0.1.2)\n",
      "Requirement already satisfied: folium>=0.17.0 in c:\\users\\vincent\\downloads\\webgis\\venv\\lib\\site-packages (from geemap[workshop]) (0.19.6)\n",
      "Requirement already satisfied: geocoder in c:\\users\\vincent\\downloads\\webgis\\venv\\lib\\site-packages (from geemap[workshop]) (1.38.1)\n",
      "Requirement already satisfied: ipyevents in c:\\users\\vincent\\downloads\\webgis\\venv\\lib\\site-packages (from geemap[workshop]) (2.0.2)\n",
      "Requirement already satisfied: ipyfilechooser>=0.6.0 in c:\\users\\vincent\\downloads\\webgis\\venv\\lib\\site-packages (from geemap[workshop]) (0.6.0)\n",
      "Requirement already satisfied: ipyleaflet>=0.19.2 in c:\\users\\vincent\\downloads\\webgis\\venv\\lib\\site-packages (from geemap[workshop]) (0.19.2)\n",
      "Requirement already satisfied: ipytree in c:\\users\\vincent\\downloads\\webgis\\venv\\lib\\site-packages (from geemap[workshop]) (0.2.2)\n",
      "Requirement already satisfied: matplotlib in c:\\users\\vincent\\downloads\\webgis\\venv\\lib\\site-packages (from geemap[workshop]) (3.10.3)\n",
      "Requirement already satisfied: numpy in c:\\users\\vincent\\downloads\\webgis\\venv\\lib\\site-packages (from geemap[workshop]) (2.2.6)\n",
      "Requirement already satisfied: pandas in c:\\users\\vincent\\downloads\\webgis\\venv\\lib\\site-packages (from geemap[workshop]) (2.2.3)\n",
      "Requirement already satisfied: plotly in c:\\users\\vincent\\downloads\\webgis\\venv\\lib\\site-packages (from geemap[workshop]) (6.1.1)\n",
      "Requirement already satisfied: pyperclip in c:\\users\\vincent\\downloads\\webgis\\venv\\lib\\site-packages (from geemap[workshop]) (1.9.0)\n",
      "Requirement already satisfied: pyshp>=2.3.1 in c:\\users\\vincent\\downloads\\webgis\\venv\\lib\\site-packages (from geemap[workshop]) (2.3.1)\n",
      "Requirement already satisfied: python-box in c:\\users\\vincent\\downloads\\webgis\\venv\\lib\\site-packages (from geemap[workshop]) (7.3.2)\n",
      "Requirement already satisfied: scooby in c:\\users\\vincent\\downloads\\webgis\\venv\\lib\\site-packages (from geemap[workshop]) (0.10.1)\n",
      "Requirement already satisfied: geopandas in c:\\users\\vincent\\downloads\\webgis\\venv\\lib\\site-packages (from geemap[workshop]) (1.0.1)\n",
      "Requirement already satisfied: geedim in c:\\users\\vincent\\downloads\\webgis\\venv\\lib\\site-packages (from geemap[workshop]) (1.9.1)\n",
      "Requirement already satisfied: ffmpeg-python in c:\\users\\vincent\\downloads\\webgis\\venv\\lib\\site-packages (from geemap[workshop]) (0.2.0)\n",
      "Requirement already satisfied: gdown in c:\\users\\vincent\\downloads\\webgis\\venv\\lib\\site-packages (from geemap[workshop]) (5.2.0)\n",
      "Requirement already satisfied: google-cloud-storage in c:\\users\\vincent\\downloads\\webgis\\venv\\lib\\site-packages (from earthengine-api>=1.0.0->geemap[workshop]) (3.1.0)\n",
      "Requirement already satisfied: google-api-python-client>=1.12.1 in c:\\users\\vincent\\downloads\\webgis\\venv\\lib\\site-packages (from earthengine-api>=1.0.0->geemap[workshop]) (2.170.0)\n",
      "Requirement already satisfied: google-auth>=1.4.1 in c:\\users\\vincent\\downloads\\webgis\\venv\\lib\\site-packages (from earthengine-api>=1.0.0->geemap[workshop]) (2.40.2)\n",
      "Requirement already satisfied: google-auth-httplib2>=0.0.3 in c:\\users\\vincent\\downloads\\webgis\\venv\\lib\\site-packages (from earthengine-api>=1.0.0->geemap[workshop]) (0.2.0)\n",
      "Requirement already satisfied: httplib2<1dev,>=0.9.2 in c:\\users\\vincent\\downloads\\webgis\\venv\\lib\\site-packages (from earthengine-api>=1.0.0->geemap[workshop]) (0.22.0)\n",
      "Requirement already satisfied: requests in c:\\users\\vincent\\downloads\\webgis\\venv\\lib\\site-packages (from earthengine-api>=1.0.0->geemap[workshop]) (2.32.3)\n",
      "Requirement already satisfied: branca>=0.6.0 in c:\\users\\vincent\\downloads\\webgis\\venv\\lib\\site-packages (from folium>=0.17.0->geemap[workshop]) (0.8.1)\n",
      "Requirement already satisfied: jinja2>=2.9 in c:\\users\\vincent\\downloads\\webgis\\venv\\lib\\site-packages (from folium>=0.17.0->geemap[workshop]) (3.1.6)\n",
      "Requirement already satisfied: xyzservices in c:\\users\\vincent\\downloads\\webgis\\venv\\lib\\site-packages (from folium>=0.17.0->geemap[workshop]) (2025.4.0)\n",
      "Requirement already satisfied: ipywidgets in c:\\users\\vincent\\downloads\\webgis\\venv\\lib\\site-packages (from ipyfilechooser>=0.6.0->geemap[workshop]) (8.1.7)\n",
      "Requirement already satisfied: jupyter-leaflet<0.20,>=0.19 in c:\\users\\vincent\\downloads\\webgis\\venv\\lib\\site-packages (from ipyleaflet>=0.19.2->geemap[workshop]) (0.19.2)\n",
      "Requirement already satisfied: traittypes<3,>=0.2.1 in c:\\users\\vincent\\downloads\\webgis\\venv\\lib\\site-packages (from ipyleaflet>=0.19.2->geemap[workshop]) (0.2.1)\n",
      "Requirement already satisfied: traitlets>=4.3.0 in c:\\users\\vincent\\downloads\\webgis\\venv\\lib\\site-packages (from bqplot->geemap[workshop]) (5.14.3)\n",
      "Requirement already satisfied: python-dateutil>=2.8.2 in c:\\users\\vincent\\downloads\\webgis\\venv\\lib\\site-packages (from pandas->geemap[workshop]) (2.9.0.post0)\n",
      "Requirement already satisfied: pytz>=2020.1 in c:\\users\\vincent\\downloads\\webgis\\venv\\lib\\site-packages (from pandas->geemap[workshop]) (2025.2)\n",
      "Requirement already satisfied: tzdata>=2022.7 in c:\\users\\vincent\\downloads\\webgis\\venv\\lib\\site-packages (from pandas->geemap[workshop]) (2025.2)\n",
      "Requirement already satisfied: future in c:\\users\\vincent\\downloads\\webgis\\venv\\lib\\site-packages (from ffmpeg-python->geemap[workshop]) (1.0.0)\n",
      "Requirement already satisfied: beautifulsoup4 in c:\\users\\vincent\\downloads\\webgis\\venv\\lib\\site-packages (from gdown->geemap[workshop]) (4.13.4)\n",
      "Requirement already satisfied: filelock in c:\\users\\vincent\\downloads\\webgis\\venv\\lib\\site-packages (from gdown->geemap[workshop]) (3.18.0)\n",
      "Requirement already satisfied: tqdm in c:\\users\\vincent\\downloads\\webgis\\venv\\lib\\site-packages (from gdown->geemap[workshop]) (4.67.1)\n",
      "Requirement already satisfied: rasterio>=1.3.8 in c:\\users\\vincent\\downloads\\webgis\\venv\\lib\\site-packages (from geedim->geemap[workshop]) (1.4.3)\n",
      "Requirement already satisfied: click>=8 in c:\\users\\vincent\\downloads\\webgis\\venv\\lib\\site-packages (from geedim->geemap[workshop]) (8.2.1)\n",
      "Requirement already satisfied: tabulate>=0.8 in c:\\users\\vincent\\downloads\\webgis\\venv\\lib\\site-packages (from geedim->geemap[workshop]) (0.9.0)\n",
      "Requirement already satisfied: ratelim in c:\\users\\vincent\\downloads\\webgis\\venv\\lib\\site-packages (from geocoder->geemap[workshop]) (0.1.6)\n",
      "Requirement already satisfied: six in c:\\users\\vincent\\downloads\\webgis\\venv\\lib\\site-packages (from geocoder->geemap[workshop]) (1.17.0)\n",
      "Requirement already satisfied: pyogrio>=0.7.2 in c:\\users\\vincent\\downloads\\webgis\\venv\\lib\\site-packages (from geopandas->geemap[workshop]) (0.11.0)\n",
      "Requirement already satisfied: packaging in c:\\users\\vincent\\downloads\\webgis\\venv\\lib\\site-packages (from geopandas->geemap[workshop]) (25.0)\n",
      "Requirement already satisfied: pyproj>=3.3.0 in c:\\users\\vincent\\downloads\\webgis\\venv\\lib\\site-packages (from geopandas->geemap[workshop]) (3.7.1)\n",
      "Requirement already satisfied: shapely>=2.0.0 in c:\\users\\vincent\\downloads\\webgis\\venv\\lib\\site-packages (from geopandas->geemap[workshop]) (2.1.1)\n",
      "Requirement already satisfied: contourpy>=1.0.1 in c:\\users\\vincent\\downloads\\webgis\\venv\\lib\\site-packages (from matplotlib->geemap[workshop]) (1.3.2)\n",
      "Requirement already satisfied: cycler>=0.10 in c:\\users\\vincent\\downloads\\webgis\\venv\\lib\\site-packages (from matplotlib->geemap[workshop]) (0.12.1)\n",
      "Requirement already satisfied: fonttools>=4.22.0 in c:\\users\\vincent\\downloads\\webgis\\venv\\lib\\site-packages (from matplotlib->geemap[workshop]) (4.58.0)\n",
      "Requirement already satisfied: kiwisolver>=1.3.1 in c:\\users\\vincent\\downloads\\webgis\\venv\\lib\\site-packages (from matplotlib->geemap[workshop]) (1.4.8)\n",
      "Requirement already satisfied: pillow>=8 in c:\\users\\vincent\\downloads\\webgis\\venv\\lib\\site-packages (from matplotlib->geemap[workshop]) (11.2.1)\n",
      "Requirement already satisfied: pyparsing>=2.3.1 in c:\\users\\vincent\\downloads\\webgis\\venv\\lib\\site-packages (from matplotlib->geemap[workshop]) (3.2.3)\n",
      "Requirement already satisfied: narwhals>=1.15.1 in c:\\users\\vincent\\downloads\\webgis\\venv\\lib\\site-packages (from plotly->geemap[workshop]) (1.40.0)\n",
      "Requirement already satisfied: colorama in c:\\users\\vincent\\downloads\\webgis\\venv\\lib\\site-packages (from click>=8->geedim->geemap[workshop]) (0.4.6)\n",
      "Requirement already satisfied: google-api-core!=2.0.*,!=2.1.*,!=2.2.*,!=2.3.0,<3.0.0,>=1.31.5 in c:\\users\\vincent\\downloads\\webgis\\venv\\lib\\site-packages (from google-api-python-client>=1.12.1->earthengine-api>=1.0.0->geemap[workshop]) (2.24.2)\n",
      "Requirement already satisfied: uritemplate<5,>=3.0.1 in c:\\users\\vincent\\downloads\\webgis\\venv\\lib\\site-packages (from google-api-python-client>=1.12.1->earthengine-api>=1.0.0->geemap[workshop]) (4.1.1)\n",
      "Requirement already satisfied: cachetools<6.0,>=2.0.0 in c:\\users\\vincent\\downloads\\webgis\\venv\\lib\\site-packages (from google-auth>=1.4.1->earthengine-api>=1.0.0->geemap[workshop]) (5.5.2)\n",
      "Requirement already satisfied: pyasn1-modules>=0.2.1 in c:\\users\\vincent\\downloads\\webgis\\venv\\lib\\site-packages (from google-auth>=1.4.1->earthengine-api>=1.0.0->geemap[workshop]) (0.4.2)\n",
      "Requirement already satisfied: rsa<5,>=3.1.4 in c:\\users\\vincent\\downloads\\webgis\\venv\\lib\\site-packages (from google-auth>=1.4.1->earthengine-api>=1.0.0->geemap[workshop]) (4.9.1)\n",
      "Requirement already satisfied: comm>=0.1.3 in c:\\users\\vincent\\downloads\\webgis\\venv\\lib\\site-packages (from ipywidgets->ipyfilechooser>=0.6.0->geemap[workshop]) (0.2.2)\n",
      "Requirement already satisfied: ipython>=6.1.0 in c:\\users\\vincent\\downloads\\webgis\\venv\\lib\\site-packages (from ipywidgets->ipyfilechooser>=0.6.0->geemap[workshop]) (9.2.0)\n",
      "Requirement already satisfied: widgetsnbextension~=4.0.14 in c:\\users\\vincent\\downloads\\webgis\\venv\\lib\\site-packages (from ipywidgets->ipyfilechooser>=0.6.0->geemap[workshop]) (4.0.14)\n",
      "Requirement already satisfied: jupyterlab_widgets~=3.0.15 in c:\\users\\vincent\\downloads\\webgis\\venv\\lib\\site-packages (from ipywidgets->ipyfilechooser>=0.6.0->geemap[workshop]) (3.0.15)\n",
      "Requirement already satisfied: MarkupSafe>=2.0 in c:\\users\\vincent\\downloads\\webgis\\venv\\lib\\site-packages (from jinja2>=2.9->folium>=0.17.0->geemap[workshop]) (3.0.2)\n",
      "Requirement already satisfied: certifi in c:\\users\\vincent\\downloads\\webgis\\venv\\lib\\site-packages (from pyogrio>=0.7.2->geopandas->geemap[workshop]) (2025.4.26)\n",
      "Requirement already satisfied: affine in c:\\users\\vincent\\downloads\\webgis\\venv\\lib\\site-packages (from rasterio>=1.3.8->geedim->geemap[workshop]) (2.4.0)\n",
      "Requirement already satisfied: attrs in c:\\users\\vincent\\downloads\\webgis\\venv\\lib\\site-packages (from rasterio>=1.3.8->geedim->geemap[workshop]) (25.3.0)\n",
      "Requirement already satisfied: cligj>=0.5 in c:\\users\\vincent\\downloads\\webgis\\venv\\lib\\site-packages (from rasterio>=1.3.8->geedim->geemap[workshop]) (0.7.2)\n",
      "Requirement already satisfied: click-plugins in c:\\users\\vincent\\downloads\\webgis\\venv\\lib\\site-packages (from rasterio>=1.3.8->geedim->geemap[workshop]) (1.1.1)\n",
      "Requirement already satisfied: charset-normalizer<4,>=2 in c:\\users\\vincent\\downloads\\webgis\\venv\\lib\\site-packages (from requests->earthengine-api>=1.0.0->geemap[workshop]) (3.4.2)\n",
      "Requirement already satisfied: idna<4,>=2.5 in c:\\users\\vincent\\downloads\\webgis\\venv\\lib\\site-packages (from requests->earthengine-api>=1.0.0->geemap[workshop]) (3.10)\n",
      "Requirement already satisfied: urllib3<3,>=1.21.1 in c:\\users\\vincent\\downloads\\webgis\\venv\\lib\\site-packages (from requests->earthengine-api>=1.0.0->geemap[workshop]) (2.4.0)\n",
      "Requirement already satisfied: soupsieve>1.2 in c:\\users\\vincent\\downloads\\webgis\\venv\\lib\\site-packages (from beautifulsoup4->gdown->geemap[workshop]) (2.7)\n",
      "Requirement already satisfied: typing-extensions>=4.0.0 in c:\\users\\vincent\\downloads\\webgis\\venv\\lib\\site-packages (from beautifulsoup4->gdown->geemap[workshop]) (4.13.2)\n",
      "Requirement already satisfied: google-cloud-core<3.0dev,>=2.4.2 in c:\\users\\vincent\\downloads\\webgis\\venv\\lib\\site-packages (from google-cloud-storage->earthengine-api>=1.0.0->geemap[workshop]) (2.4.3)\n",
      "Requirement already satisfied: google-resumable-media>=2.7.2 in c:\\users\\vincent\\downloads\\webgis\\venv\\lib\\site-packages (from google-cloud-storage->earthengine-api>=1.0.0->geemap[workshop]) (2.7.2)\n",
      "Requirement already satisfied: google-crc32c<2.0dev,>=1.0 in c:\\users\\vincent\\downloads\\webgis\\venv\\lib\\site-packages (from google-cloud-storage->earthengine-api>=1.0.0->geemap[workshop]) (1.7.1)\n",
      "Requirement already satisfied: decorator in c:\\users\\vincent\\downloads\\webgis\\venv\\lib\\site-packages (from ratelim->geocoder->geemap[workshop]) (5.2.1)\n",
      "Requirement already satisfied: PySocks!=1.5.7,>=1.5.6 in c:\\users\\vincent\\downloads\\webgis\\venv\\lib\\site-packages (from requests[socks]->gdown->geemap[workshop]) (1.7.1)\n",
      "Requirement already satisfied: googleapis-common-protos<2.0.0,>=1.56.2 in c:\\users\\vincent\\downloads\\webgis\\venv\\lib\\site-packages (from google-api-core!=2.0.*,!=2.1.*,!=2.2.*,!=2.3.0,<3.0.0,>=1.31.5->google-api-python-client>=1.12.1->earthengine-api>=1.0.0->geemap[workshop]) (1.70.0)\n",
      "Requirement already satisfied: protobuf!=3.20.0,!=3.20.1,!=4.21.0,!=4.21.1,!=4.21.2,!=4.21.3,!=4.21.4,!=4.21.5,<7.0.0,>=3.19.5 in c:\\users\\vincent\\downloads\\webgis\\venv\\lib\\site-packages (from google-api-core!=2.0.*,!=2.1.*,!=2.2.*,!=2.3.0,<3.0.0,>=1.31.5->google-api-python-client>=1.12.1->earthengine-api>=1.0.0->geemap[workshop]) (6.31.0)\n",
      "Requirement already satisfied: proto-plus<2.0.0,>=1.22.3 in c:\\users\\vincent\\downloads\\webgis\\venv\\lib\\site-packages (from google-api-core!=2.0.*,!=2.1.*,!=2.2.*,!=2.3.0,<3.0.0,>=1.31.5->google-api-python-client>=1.12.1->earthengine-api>=1.0.0->geemap[workshop]) (1.26.1)\n",
      "Requirement already satisfied: ipython-pygments-lexers in c:\\users\\vincent\\downloads\\webgis\\venv\\lib\\site-packages (from ipython>=6.1.0->ipywidgets->ipyfilechooser>=0.6.0->geemap[workshop]) (1.1.1)\n",
      "Requirement already satisfied: jedi>=0.16 in c:\\users\\vincent\\downloads\\webgis\\venv\\lib\\site-packages (from ipython>=6.1.0->ipywidgets->ipyfilechooser>=0.6.0->geemap[workshop]) (0.19.2)\n",
      "Requirement already satisfied: matplotlib-inline in c:\\users\\vincent\\downloads\\webgis\\venv\\lib\\site-packages (from ipython>=6.1.0->ipywidgets->ipyfilechooser>=0.6.0->geemap[workshop]) (0.1.7)\n",
      "Requirement already satisfied: prompt_toolkit<3.1.0,>=3.0.41 in c:\\users\\vincent\\downloads\\webgis\\venv\\lib\\site-packages (from ipython>=6.1.0->ipywidgets->ipyfilechooser>=0.6.0->geemap[workshop]) (3.0.51)\n",
      "Requirement already satisfied: pygments>=2.4.0 in c:\\users\\vincent\\downloads\\webgis\\venv\\lib\\site-packages (from ipython>=6.1.0->ipywidgets->ipyfilechooser>=0.6.0->geemap[workshop]) (2.19.1)\n",
      "Requirement already satisfied: stack_data in c:\\users\\vincent\\downloads\\webgis\\venv\\lib\\site-packages (from ipython>=6.1.0->ipywidgets->ipyfilechooser>=0.6.0->geemap[workshop]) (0.6.3)\n",
      "Requirement already satisfied: pyasn1<0.7.0,>=0.6.1 in c:\\users\\vincent\\downloads\\webgis\\venv\\lib\\site-packages (from pyasn1-modules>=0.2.1->google-auth>=1.4.1->earthengine-api>=1.0.0->geemap[workshop]) (0.6.1)\n",
      "Requirement already satisfied: parso<0.9.0,>=0.8.4 in c:\\users\\vincent\\downloads\\webgis\\venv\\lib\\site-packages (from jedi>=0.16->ipython>=6.1.0->ipywidgets->ipyfilechooser>=0.6.0->geemap[workshop]) (0.8.4)\n",
      "Requirement already satisfied: wcwidth in c:\\users\\vincent\\downloads\\webgis\\venv\\lib\\site-packages (from prompt_toolkit<3.1.0,>=3.0.41->ipython>=6.1.0->ipywidgets->ipyfilechooser>=0.6.0->geemap[workshop]) (0.2.13)\n",
      "Requirement already satisfied: executing>=1.2.0 in c:\\users\\vincent\\downloads\\webgis\\venv\\lib\\site-packages (from stack_data->ipython>=6.1.0->ipywidgets->ipyfilechooser>=0.6.0->geemap[workshop]) (2.2.0)\n",
      "Requirement already satisfied: asttokens>=2.1.0 in c:\\users\\vincent\\downloads\\webgis\\venv\\lib\\site-packages (from stack_data->ipython>=6.1.0->ipywidgets->ipyfilechooser>=0.6.0->geemap[workshop]) (3.0.0)\n",
      "Requirement already satisfied: pure-eval in c:\\users\\vincent\\downloads\\webgis\\venv\\lib\\site-packages (from stack_data->ipython>=6.1.0->ipywidgets->ipyfilechooser>=0.6.0->geemap[workshop]) (0.2.3)\n",
      "Note: you may need to restart the kernel to use updated packages.\n"
     ]
    },
    {
     "name": "stderr",
     "output_type": "stream",
     "text": [
      "\n",
      "[notice] A new release of pip is available: 24.0 -> 25.1.1\n",
      "[notice] To update, run: python.exe -m pip install --upgrade pip\n"
     ]
    }
   ],
   "source": [
    "%pip install -U \"geemap[workshop]\""
   ]
  },
  {
   "cell_type": "code",
   "execution_count": 4,
   "id": "84165bf9",
   "metadata": {},
   "outputs": [],
   "source": [
    "import leafmap.foliumap as leafmap\n",
    "import matplotlib.colors as mcolors\n",
    "import geopandas as gpd\n",
    "import rasterio\n",
    "import rasterio.plot\n",
    "import numpy as np\n",
    "import matplotlib.pyplot as plt\n",
    "import seaborn as sns\n",
    "import ee\n",
    "import geemap"
   ]
  },
  {
   "cell_type": "markdown",
   "id": "5dadbea2",
   "metadata": {},
   "source": [
    "REPROJECT RASTER"
   ]
  },
  {
   "cell_type": "code",
   "execution_count": 5,
   "id": "8aff6122",
   "metadata": {},
   "outputs": [
    {
     "data": {
      "text/html": [
       "\n",
       "            <style>\n",
       "                .geemap-dark {\n",
       "                    --jp-widgets-color: white;\n",
       "                    --jp-widgets-label-color: white;\n",
       "                    --jp-ui-font-color1: white;\n",
       "                    --jp-layout-color2: #454545;\n",
       "                    background-color: #383838;\n",
       "                }\n",
       "\n",
       "                .geemap-dark .jupyter-button {\n",
       "                    --jp-layout-color3: #383838;\n",
       "                }\n",
       "\n",
       "                .geemap-colab {\n",
       "                    background-color: var(--colab-primary-surface-color, white);\n",
       "                }\n",
       "\n",
       "                .geemap-colab .jupyter-button {\n",
       "                    --jp-layout-color3: var(--colab-primary-surface-color, white);\n",
       "                }\n",
       "            </style>\n",
       "            "
      ],
      "text/plain": [
       "<IPython.core.display.HTML object>"
      ]
     },
     "metadata": {},
     "output_type": "display_data"
    },
    {
     "name": "stdout",
     "output_type": "stream",
     "text": [
      "Reprojected raster saved at C:\\Users\\VINCENT\\Downloads\\WEBGIS\\venv\\Clip Raster Surabaya\\raster_sby1_utm49s.tif\n"
     ]
    }
   ],
   "source": [
    "from rasterio.warp import calculate_default_transform, reproject, Resampling\n",
    "\n",
    "raster_path = r\"C:\\Users\\VINCENT\\Downloads\\WEBGIS\\venv\\Clip Raster Surabaya\\raster_sby1.tif\"\n",
    "dst_crs = 'EPSG:32749'  # WGS 84\n",
    "output_reprojected_path = r\"C:\\Users\\VINCENT\\Downloads\\WEBGIS\\venv\\Clip Raster Surabaya\\raster_sby1_utm49s.tif\"\n",
    "\n",
    "with rasterio.open(raster_path) as src:\n",
    "    transform, width, height = calculate_default_transform(\n",
    "        src.crs, dst_crs, src.width, src.height, *src.bounds,\n",
    "        resolution=(30,30)\n",
    "    )\n",
    "\n",
    "    profile = src.profile\n",
    "    profile.update(crs=dst_crs, transform=transform, width=width, height=height)\n",
    "\n",
    "    with rasterio.open(output_reprojected_path, \"w\", **profile) as dst:\n",
    "        for i in range(1, src.count + 1):\n",
    "            reproject(\n",
    "                source=rasterio.band(src, i),\n",
    "                destination=rasterio.band(dst, i),\n",
    "                src_transform=src.transform,\n",
    "                src_crs=src.crs,\n",
    "                dst_transform=transform,\n",
    "                dst_crs=dst_crs,\n",
    "                resampling=Resampling.nearest,\n",
    "            )\n",
    "print(f\"Reprojected raster saved at {output_reprojected_path}\")"
   ]
  },
  {
   "cell_type": "code",
   "execution_count": 6,
   "id": "118d2890",
   "metadata": {},
   "outputs": [
    {
     "data": {
      "text/html": [
       "\n",
       "            <style>\n",
       "                .geemap-dark {\n",
       "                    --jp-widgets-color: white;\n",
       "                    --jp-widgets-label-color: white;\n",
       "                    --jp-ui-font-color1: white;\n",
       "                    --jp-layout-color2: #454545;\n",
       "                    background-color: #383838;\n",
       "                }\n",
       "\n",
       "                .geemap-dark .jupyter-button {\n",
       "                    --jp-layout-color3: #383838;\n",
       "                }\n",
       "\n",
       "                .geemap-colab {\n",
       "                    background-color: var(--colab-primary-surface-color, white);\n",
       "                }\n",
       "\n",
       "                .geemap-colab .jupyter-button {\n",
       "                    --jp-layout-color3: var(--colab-primary-surface-color, white);\n",
       "                }\n",
       "            </style>\n",
       "            "
      ],
      "text/plain": [
       "<IPython.core.display.HTML object>"
      ]
     },
     "metadata": {},
     "output_type": "display_data"
    },
    {
     "name": "stdout",
     "output_type": "stream",
     "text": [
      "Raster Coordinat System: EPSG:32749\n",
      "Pixel Resolution : {pixel_width} * {pixel_height} {raster_crs.linear_units}\n",
      "\n",
      "Number of Pixels per Class Value: \n",
      "{np.uint8(0): np.int64(68783), np.uint8(1): np.int64(46628), np.uint8(2): np.int64(130018), np.uint8(3): np.int64(92434), np.uint8(4): np.int64(27045)}\n"
     ]
    }
   ],
   "source": [
    "import rasterio.errors\n",
    "import numpy as np\n",
    "\n",
    "\n",
    "class_names = {\n",
    "    0 : \"Vegetation\",\n",
    "    1 : \"Water\",\n",
    "    2 : \"Building\",\n",
    "    3 : \"Empty Land\",\n",
    "    4: \"Road Network\"\n",
    "}\n",
    "class_colors = {\n",
    "    \"Vegetation\" : '#24ff05',\n",
    "    \"Water\"      : '#088fec',\n",
    "    \"Building\"   : '#d64926',\n",
    "    \"Empty Land\" : '#fffe72',\n",
    "    \"Road Network\" : '#9c19ab'\n",
    "}\n",
    "try:\n",
    "    with rasterio.open(output_reprojected_path) as src:\n",
    "        classification_array = src.read(1)\n",
    "\n",
    "        pixel_width = src.res[0]\n",
    "        pixel_height = src.res[1]\n",
    "        area_per_pixel_sqm = abs(pixel_width * pixel_height)\n",
    "\n",
    "        raster_crs = src.crs\n",
    "        print(f\"Raster Coordinat System: {raster_crs}\")\n",
    "        print(\"Pixel Resolution : {pixel_width} * {pixel_height} {raster_crs.linear_units}\")\n",
    "\n",
    "        nodata_value = src.nodata\n",
    "        if nodata_value is not None:\n",
    "            classification_array_valid = classification_array[classification_array != nodata_value]\n",
    "        else:\n",
    "            classification_array_valid = classification_array\n",
    "\n",
    "except rasterio.errors.RasterioIOError as e:\n",
    "    print(f\"Error: {e}\")\n",
    "    exit()\n",
    "\n",
    "unique_classes, counts = np.unique(classification_array_valid, return_counts=True)\n",
    "pixel_counts= dict(zip(unique_classes, counts))\n",
    "print(\"\\nNumber of Pixels per Class Value: \")\n",
    "print(pixel_counts)\n",
    "\n",
    "area_by_class_sqm = {}\n",
    "for class_value, pixel_counts in pixel_counts.items():\n",
    "    if class_value in class_names:\n",
    "        area_sqm = pixel_counts * area_per_pixel_sqm\n",
    "        area_by_class_sqm[class_names[class_value]] = area_sqm\n",
    "\n",
    "    elif class_value == nodata_value:\n",
    "        print(f\"Ignore NoData pixels : {nodata_value}\")\n",
    "    else:\n",
    "        print(f\"WARNING: Class Value '{class_value}' not found in 'class_names'\")\n"
   ]
  },
  {
   "cell_type": "code",
   "execution_count": 7,
   "id": "30ef7cbf",
   "metadata": {},
   "outputs": [
    {
     "data": {
      "text/html": [
       "\n",
       "            <style>\n",
       "                .geemap-dark {\n",
       "                    --jp-widgets-color: white;\n",
       "                    --jp-widgets-label-color: white;\n",
       "                    --jp-ui-font-color1: white;\n",
       "                    --jp-layout-color2: #454545;\n",
       "                    background-color: #383838;\n",
       "                }\n",
       "\n",
       "                .geemap-dark .jupyter-button {\n",
       "                    --jp-layout-color3: #383838;\n",
       "                }\n",
       "\n",
       "                .geemap-colab {\n",
       "                    background-color: var(--colab-primary-surface-color, white);\n",
       "                }\n",
       "\n",
       "                .geemap-colab .jupyter-button {\n",
       "                    --jp-layout-color3: var(--colab-primary-surface-color, white);\n",
       "                }\n",
       "            </style>\n",
       "            "
      ],
      "text/plain": [
       "<IPython.core.display.HTML object>"
      ]
     },
     "metadata": {},
     "output_type": "display_data"
    },
    {
     "name": "stdout",
     "output_type": "stream",
     "text": [
      "\n",
      "Results of Calculation of Area and Percentage of Land Cover: \n",
      "          Class    Area (m2)  Percentage (%)  Area (Ha)  Area (km2)\n",
      "0    Vegetation   61904700.0           18.85    6190.47       61.90\n",
      "1         Water   41965200.0           12.78    4196.52       41.97\n",
      "2      Building  117016200.0           35.63   11701.62      117.02\n",
      "3    Empty Land   83190600.0           25.33    8319.06       83.19\n",
      "4  Road Network   24340500.0            7.41    2434.05       24.34\n"
     ]
    }
   ],
   "source": [
    "import pandas as pd\n",
    "\n",
    "df_area = pd.DataFrame(list(area_by_class_sqm.items()), columns=['Class', 'Area (m2)'])\n",
    "df_area['Class_Value'] = df_area['Class'].map({v: k for k, v in class_names.items()})\n",
    "df_area = df_area.sort_values(by='Class_Value').drop('Class_Value', axis=1)\n",
    "total_area_sqm = df_area['Area (m2)'].sum()\n",
    "df_area['Percentage (%)'] = (df_area['Area (m2)'] / total_area_sqm) * 100\n",
    "df_area['Area (Ha)'] = df_area['Area (m2)']/10000\n",
    "df_area['Area (km2)'] = df_area['Area (m2)']/1000000\n",
    "\n",
    "print(f\"\\nResults of Calculation of Area and Percentage of Land Cover: \")\n",
    "print(df_area.round(2))"
   ]
  },
  {
   "cell_type": "code",
   "execution_count": 8,
   "id": "e114dd37",
   "metadata": {},
   "outputs": [
    {
     "data": {
      "text/html": [
       "\n",
       "            <style>\n",
       "                .geemap-dark {\n",
       "                    --jp-widgets-color: white;\n",
       "                    --jp-widgets-label-color: white;\n",
       "                    --jp-ui-font-color1: white;\n",
       "                    --jp-layout-color2: #454545;\n",
       "                    background-color: #383838;\n",
       "                }\n",
       "\n",
       "                .geemap-dark .jupyter-button {\n",
       "                    --jp-layout-color3: #383838;\n",
       "                }\n",
       "\n",
       "                .geemap-colab {\n",
       "                    background-color: var(--colab-primary-surface-color, white);\n",
       "                }\n",
       "\n",
       "                .geemap-colab .jupyter-button {\n",
       "                    --jp-layout-color3: var(--colab-primary-surface-color, white);\n",
       "                }\n",
       "            </style>\n",
       "            "
      ],
      "text/plain": [
       "<IPython.core.display.HTML object>"
      ]
     },
     "metadata": {},
     "output_type": "display_data"
    },
    {
     "data": {
      "image/png": "[encoded data removed]",
      "text/plain": [
       "<Figure size 1000x800 with 1 Axes>"
      ]
     },
     "metadata": {},
     "output_type": "display_data"
    },
    {
     "data": {
      "text/plain": [
       "<Figure size 640x480 with 0 Axes>"
      ]
     },
     "metadata": {},
     "output_type": "display_data"
    }
   ],
   "source": [
    "plot_colors = [class_colors[c] for c in df_area['Class']]\n",
    "\n",
    "plt.figure(figsize=(10,8))\n",
    "plt.pie(\n",
    "    df_area['Percentage (%)'],\n",
    "    labels=df_area['Class'],\n",
    "    autopct= '%1.1f%%',\n",
    "    colors= plot_colors,\n",
    "    startangle= 90,\n",
    "    pctdistance= 0.85,\n",
    "    textprops= {'fontsize' : 10} \n",
    ")\n",
    "plt.title('Land Cover Proportion of Surabaya City', fontsize= 16)\n",
    "plt.axis('equal')\n",
    "plt.show()\n",
    "plt.savefig(r\"C:\\Users\\VINCENT\\Downloads\\WEBGIS\\Pie_Chart_SBY.png\", dpi=300, bbox_inches= 'tight')\n",
    "\n",
    "\n"
   ]
  },
  {
   "cell_type": "code",
   "execution_count": 9,
   "id": "8d69329c",
   "metadata": {},
   "outputs": [
    {
     "data": {
      "text/html": [
       "\n",
       "            <style>\n",
       "                .geemap-dark {\n",
       "                    --jp-widgets-color: white;\n",
       "                    --jp-widgets-label-color: white;\n",
       "                    --jp-ui-font-color1: white;\n",
       "                    --jp-layout-color2: #454545;\n",
       "                    background-color: #383838;\n",
       "                }\n",
       "\n",
       "                .geemap-dark .jupyter-button {\n",
       "                    --jp-layout-color3: #383838;\n",
       "                }\n",
       "\n",
       "                .geemap-colab {\n",
       "                    background-color: var(--colab-primary-surface-color, white);\n",
       "                }\n",
       "\n",
       "                .geemap-colab .jupyter-button {\n",
       "                    --jp-layout-color3: var(--colab-primary-surface-color, white);\n",
       "                }\n",
       "            </style>\n",
       "            "
      ],
      "text/plain": [
       "<IPython.core.display.HTML object>"
      ]
     },
     "metadata": {},
     "output_type": "display_data"
    },
    {
     "name": "stdout",
     "output_type": "stream",
     "text": [
      "GEE Initialize Succesfully\n"
     ]
    }
   ],
   "source": [
    "GEE_Project_ID = 'elfonda2002'\n",
    "\n",
    "try:\n",
    "    ee.Initialize(project= GEE_Project_ID)\n",
    "    print(f\"GEE Initialize Succesfully\")\n",
    "\n",
    "except Exception as e:\n",
    "    print(f\"Error initializing GEE: {e}\")\n",
    "    exit()"
   ]
  },
  {
   "cell_type": "code",
   "execution_count": 10,
   "id": "ab515a74",
   "metadata": {},
   "outputs": [
    {
     "data": {
      "text/html": [
       "\n",
       "            <style>\n",
       "                .geemap-dark {\n",
       "                    --jp-widgets-color: white;\n",
       "                    --jp-widgets-label-color: white;\n",
       "                    --jp-ui-font-color1: white;\n",
       "                    --jp-layout-color2: #454545;\n",
       "                    background-color: #383838;\n",
       "                }\n",
       "\n",
       "                .geemap-dark .jupyter-button {\n",
       "                    --jp-layout-color3: #383838;\n",
       "                }\n",
       "\n",
       "                .geemap-colab {\n",
       "                    background-color: var(--colab-primary-surface-color, white);\n",
       "                }\n",
       "\n",
       "                .geemap-colab .jupyter-button {\n",
       "                    --jp-layout-color3: var(--colab-primary-surface-color, white);\n",
       "                }\n",
       "            </style>\n",
       "            "
      ],
      "text/plain": [
       "<IPython.core.display.HTML object>"
      ]
     },
     "metadata": {},
     "output_type": "display_data"
    },
    {
     "name": "stdout",
     "output_type": "stream",
     "text": [
      "Asset info: {'type': 'Image', 'bands': [{'id': 'b1', 'data_type': {'type': 'PixelType', 'precision': 'int', 'min': 0, 'max': 255}, 'dimensions': [944, 591], 'crs': 'EPSG:32749', 'crs_transform': [30, 0, 675651.6717140566, 0, -30, 9204690.537295068]}], 'version': 1748056227612692, 'id': 'projects/elfonda2002/assets/raster_sby1_utm49s', 'properties': {'system:footprint': {'type': 'LinearRing', 'coordinates': [[112.84706418760439, -7.191179569671734], [112.84703009484477, -7.191177597535317], [112.59090881549719, -7.192138629664174], [112.59078377742112, -7.192248743970365], [112.59064591724307, -7.1923425529691345], [112.59063755105758, -7.192386903324239], [112.5912011772006, -7.352459055974274], [112.59131230190958, -7.352583121900537], [112.59140678518484, -7.352719920947608], [112.5914403408409, -7.352726077301739], [112.59147435117964, -7.352728129936891], [112.8476865848013, -7.351745440293619], [112.84781159149088, -7.351635237065018], [112.84794941702847, -7.351541409683958], [112.84795778111057, -7.351497003582813], [112.84730338237028, -7.191446462193359], [112.84719228545524, -7.191322497978538], [112.8470976439646, -7.191185714494515], [112.84706418760439, -7.191179569671734]]}, 'system:asset_size': 115148}}\n"
     ]
    }
   ],
   "source": [
    "try:\n",
    "    asset = ee.Image('projects/elfonda2002/assets/raster_sby1_utm49s')\n",
    "    info = asset.getInfo()\n",
    "    print(\"Asset info:\", info)\n",
    "except Exception as e:\n",
    "    print(\"Gagal akses asset:\", e)"
   ]
  },
  {
   "cell_type": "code",
   "execution_count": 11,
   "id": "5ef1e497",
   "metadata": {},
   "outputs": [
    {
     "data": {
      "text/html": [
       "\n",
       "            <style>\n",
       "                .geemap-dark {\n",
       "                    --jp-widgets-color: white;\n",
       "                    --jp-widgets-label-color: white;\n",
       "                    --jp-ui-font-color1: white;\n",
       "                    --jp-layout-color2: #454545;\n",
       "                    background-color: #383838;\n",
       "                }\n",
       "\n",
       "                .geemap-dark .jupyter-button {\n",
       "                    --jp-layout-color3: #383838;\n",
       "                }\n",
       "\n",
       "                .geemap-colab {\n",
       "                    background-color: var(--colab-primary-surface-color, white);\n",
       "                }\n",
       "\n",
       "                .geemap-colab .jupyter-button {\n",
       "                    --jp-layout-color3: var(--colab-primary-surface-color, white);\n",
       "                }\n",
       "            </style>\n",
       "            "
      ],
      "text/plain": [
       "<IPython.core.display.HTML object>"
      ]
     },
     "metadata": {},
     "output_type": "display_data"
    },
    {
     "data": {
      "application/vnd.jupyter.widget-view+json": {
       "model_id": "7e7e5cfa070b48fa88fd7d3d7844184e",
       "version_major": 2,
       "version_minor": 0
      },
      "text/plain": [
       "Map(center=[-7.25, 112.75], controls=(WidgetControl(options=['position', 'transparent_bg'], widget=SearchDataG…"
      ]
     },
     "execution_count": 11,
     "metadata": {},
     "output_type": "execute_result"
    }
   ],
   "source": [
    "m = geemap.Map(center=(-7.25, 112.75), zoom=10)\n",
    "\n",
    "m.add_basemap(\"OpenStreetMap\")\n",
    "m.add_basemap(\"TERRAIN\")\n",
    "m.add_basemap(\"SATELLITE\")\n",
    "\n",
    "\n",
    "shp_path = r\"C:\\Users\\VINCENT\\OneDrive\\문서\\Latihan mapping\\KOTA SURABAYA (1)\\KOTA SURABAYA\\ADMINISTRASIDESA_AR_25K.shp\"\n",
    "gdf = gpd.read_file(shp_path)\n",
    "\n",
    "m.add_gdf(\n",
    "    gdf,\n",
    "    layer_name=\"Batas Administrasi\",\n",
    "    style={\n",
    "        \"color\": \"black\",\n",
    "        \"weight\": 0.5,\n",
    "        \"fillOpacity\": 0.0\n",
    "    }\n",
    ")\n",
    "\n",
    "colors_hex = ['#24ff05', '#088fec', '#d64926', '#fffe72', '#9c19ab']\n",
    "vis_params = {\n",
    "    'min': 0,\n",
    "    'max': len(colors_hex) - 1,\n",
    "    'palette': colors_hex\n",
    "}\n",
    "\n",
    "gee_asset = ee.Image('projects/elfonda2002/assets/raster_sby1_utm49s')\n",
    "\n",
    "m.addLayer(\n",
    "    gee_asset,\n",
    "    vis_params,\n",
    "    'Land Cover Classification of Surabaya, 2024',\n",
    "    opacity=0.4\n",
    ")\n",
    "\n",
    "m.add_legend(\n",
    "    title=\"Land Cover Classification of Surabaya, 2024\",\n",
    "    legend_dict={\n",
    "        \"Vegetation\": '#24ff05',\n",
    "        \"Water\": '#088fec',\n",
    "        \"Building\": '#d64926',\n",
    "        \"Empty Land\": '#fffe72',\n",
    "        \"Road Network\": '#9c19ab'\n",
    "    }\n",
    ")\n",
    "m\n"
   ]
  },
  {
   "cell_type": "code",
   "execution_count": 13,
   "id": "ffb18991",
   "metadata": {},
   "outputs": [
    {
     "data": {
      "text/html": [
       "\n",
       "            <style>\n",
       "                .geemap-dark {\n",
       "                    --jp-widgets-color: white;\n",
       "                    --jp-widgets-label-color: white;\n",
       "                    --jp-ui-font-color1: white;\n",
       "                    --jp-layout-color2: #454545;\n",
       "                    background-color: #383838;\n",
       "                }\n",
       "\n",
       "                .geemap-dark .jupyter-button {\n",
       "                    --jp-layout-color3: #383838;\n",
       "                }\n",
       "\n",
       "                .geemap-colab {\n",
       "                    background-color: var(--colab-primary-surface-color, white);\n",
       "                }\n",
       "\n",
       "                .geemap-colab .jupyter-button {\n",
       "                    --jp-layout-color3: var(--colab-primary-surface-color, white);\n",
       "                }\n",
       "            </style>\n",
       "            "
      ],
      "text/plain": [
       "<IPython.core.display.HTML object>"
      ]
     },
     "metadata": {},
     "output_type": "display_data"
    }
   ],
   "source": [
    "output_html = m.to_html(r\"C:\\Users\\VINCENT\\Downloads\\WEBGIS\\index.html\")"
   ]
  }
 ],
 "metadata": {
  "kernelspec": {
   "display_name": "venv",
   "language": "python",
   "name": "python3"
  },
  "language_info": {
   "codemirror_mode": {
    "name": "ipython",
    "version": 3
   },
   "file_extension": ".py",
   "mimetype": "text/x-python",
   "name": "python",
   "nbconvert_exporter": "python",
   "pygments_lexer": "ipython3",
   "version": "3.12.3"
  }
 },
 "nbformat": 4,
 "nbformat_minor": 5
}
